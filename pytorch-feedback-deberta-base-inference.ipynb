{
 "cells": [
  {
   "cell_type": "markdown",
   "id": "d97b8641",
   "metadata": {
    "papermill": {
     "duration": 0.00436,
     "end_time": "2022-08-16T18:34:42.963398",
     "exception": false,
     "start_time": "2022-08-16T18:34:42.959038",
     "status": "completed"
    },
    "tags": []
   },
   "source": [
    "**Based on the training notebook:** https://www.kaggle.com/code/raj26000/pytorch-feedback-deberta-base-training"
   ]
  },
  {
   "cell_type": "code",
   "execution_count": 1,
   "id": "c2cc40e5",
   "metadata": {
    "execution": {
     "iopub.execute_input": "2022-08-16T18:34:42.972154Z",
     "iopub.status.busy": "2022-08-16T18:34:42.971644Z",
     "iopub.status.idle": "2022-08-16T18:34:49.517617Z",
     "shell.execute_reply": "2022-08-16T18:34:49.516641Z"
    },
    "papermill": {
     "duration": 6.553718,
     "end_time": "2022-08-16T18:34:49.520578",
     "exception": false,
     "start_time": "2022-08-16T18:34:42.966860",
     "status": "completed"
    },
    "tags": []
   },
   "outputs": [],
   "source": [
    "import pandas as pd\n",
    "import os\n",
    "import gc\n",
    "import time\n",
    "import numpy as np\n",
    "import torch\n",
    "from torch import nn\n",
    "from transformers import AutoTokenizer, AutoModel, AutoConfig\n",
    "from tqdm.auto import tqdm\n",
    "from torch.utils.data import DataLoader, Dataset"
   ]
  },
  {
   "cell_type": "code",
   "execution_count": 2,
   "id": "f9fcc2b3",
   "metadata": {
    "execution": {
     "iopub.execute_input": "2022-08-16T18:34:49.529686Z",
     "iopub.status.busy": "2022-08-16T18:34:49.529174Z",
     "iopub.status.idle": "2022-08-16T18:34:49.592381Z",
     "shell.execute_reply": "2022-08-16T18:34:49.591274Z"
    },
    "papermill": {
     "duration": 0.070061,
     "end_time": "2022-08-16T18:34:49.594523",
     "exception": false,
     "start_time": "2022-08-16T18:34:49.524462",
     "status": "completed"
    },
    "tags": []
   },
   "outputs": [],
   "source": [
    "CONFIG = {\n",
    "    'pretrained_config_path': '../input/feedback-pretrain-deb-v3-base/',\n",
    "    'device': torch.device('cuda' if torch.cuda.is_available() else 'cpu'),\n",
    "    'train': False\n",
    "}"
   ]
  },
  {
   "cell_type": "code",
   "execution_count": 3,
   "id": "e098694b",
   "metadata": {
    "execution": {
     "iopub.execute_input": "2022-08-16T18:34:49.603137Z",
     "iopub.status.busy": "2022-08-16T18:34:49.602291Z",
     "iopub.status.idle": "2022-08-16T18:34:49.609352Z",
     "shell.execute_reply": "2022-08-16T18:34:49.608546Z"
    },
    "papermill": {
     "duration": 0.013373,
     "end_time": "2022-08-16T18:34:49.611329",
     "exception": false,
     "start_time": "2022-08-16T18:34:49.597956",
     "status": "completed"
    },
    "tags": []
   },
   "outputs": [],
   "source": [
    "def fetch_essay_texts(df, train=True):\n",
    "    if train:\n",
    "        base_path = '../input/feedback-prize-effectiveness/train/'\n",
    "    else:\n",
    "        base_path = '../input/feedback-prize-effectiveness/test/'\n",
    "        \n",
    "    essay_texts = {}\n",
    "    for filename in os.listdir(base_path):\n",
    "        with open(base_path + filename) as f:\n",
    "            text = f.readlines()\n",
    "            full_text = ' '.join([x for x in text])\n",
    "            essay_text = ' '.join([x for x in full_text.split()])\n",
    "        essay_texts[filename[:-4]] = essay_text\n",
    "    df['essay_text'] = [essay_texts[essay_id] for essay_id in df['essay_id'].values]   \n",
    "    return df"
   ]
  },
  {
   "cell_type": "code",
   "execution_count": 4,
   "id": "c5b553b4",
   "metadata": {
    "execution": {
     "iopub.execute_input": "2022-08-16T18:34:49.620350Z",
     "iopub.status.busy": "2022-08-16T18:34:49.618952Z",
     "iopub.status.idle": "2022-08-16T18:34:50.339038Z",
     "shell.execute_reply": "2022-08-16T18:34:50.338066Z"
    },
    "papermill": {
     "duration": 0.72704,
     "end_time": "2022-08-16T18:34:50.341709",
     "exception": false,
     "start_time": "2022-08-16T18:34:49.614669",
     "status": "completed"
    },
    "tags": []
   },
   "outputs": [],
   "source": [
    "if CONFIG['train']:\n",
    "    data = pd.read_csv('../input/feedback-stratified-folds-disctype-eff/feedback_train_folds.csv')\n",
    "else:\n",
    "    data = pd.read_csv('../input/feedback-prize-effectiveness/test.csv')\n",
    "data = fetch_essay_texts(data, train=CONFIG['train'])\n",
    "tokenizer = AutoTokenizer.from_pretrained(CONFIG['pretrained_config_path'])"
   ]
  },
  {
   "cell_type": "code",
   "execution_count": 5,
   "id": "38d8b8c3",
   "metadata": {
    "execution": {
     "iopub.execute_input": "2022-08-16T18:34:50.350379Z",
     "iopub.status.busy": "2022-08-16T18:34:50.350067Z",
     "iopub.status.idle": "2022-08-16T18:34:50.357788Z",
     "shell.execute_reply": "2022-08-16T18:34:50.356771Z"
    },
    "papermill": {
     "duration": 0.015987,
     "end_time": "2022-08-16T18:34:50.361515",
     "exception": false,
     "start_time": "2022-08-16T18:34:50.345528",
     "status": "completed"
    },
    "tags": []
   },
   "outputs": [
    {
     "data": {
      "text/plain": [
       "(10, 5)"
      ]
     },
     "execution_count": 5,
     "metadata": {},
     "output_type": "execute_result"
    }
   ],
   "source": [
    "data.shape"
   ]
  },
  {
   "cell_type": "code",
   "execution_count": 6,
   "id": "223bccfa",
   "metadata": {
    "execution": {
     "iopub.execute_input": "2022-08-16T18:34:50.369279Z",
     "iopub.status.busy": "2022-08-16T18:34:50.369019Z",
     "iopub.status.idle": "2022-08-16T18:34:50.374654Z",
     "shell.execute_reply": "2022-08-16T18:34:50.373720Z"
    },
    "papermill": {
     "duration": 0.011894,
     "end_time": "2022-08-16T18:34:50.376761",
     "exception": false,
     "start_time": "2022-08-16T18:34:50.364867",
     "status": "completed"
    },
    "tags": []
   },
   "outputs": [],
   "source": [
    "class MeanPoolingLayer(nn.Module):\n",
    "    def __init__(self):\n",
    "        super(MeanPoolingLayer, self).__init__()\n",
    "    \n",
    "    def forward(self, last_hidden_state, attention_mask):\n",
    "        expanded_mask = attention_mask.unsqueeze(-1).expand(last_hidden_state.size()).float()\n",
    "        mask_sum = expanded_mask.sum(1)\n",
    "        mask_sum = torch.clamp(mask_sum, min=1e-9)\n",
    "        masked_hidden_state = torch.sum(last_hidden_state * expanded_mask, 1)\n",
    "        return masked_hidden_state / mask_sum"
   ]
  },
  {
   "cell_type": "code",
   "execution_count": 7,
   "id": "628eb0b0",
   "metadata": {
    "execution": {
     "iopub.execute_input": "2022-08-16T18:34:50.385120Z",
     "iopub.status.busy": "2022-08-16T18:34:50.384285Z",
     "iopub.status.idle": "2022-08-16T18:34:50.396586Z",
     "shell.execute_reply": "2022-08-16T18:34:50.395601Z"
    },
    "papermill": {
     "duration": 0.018497,
     "end_time": "2022-08-16T18:34:50.398560",
     "exception": false,
     "start_time": "2022-08-16T18:34:50.380063",
     "status": "completed"
    },
    "tags": []
   },
   "outputs": [],
   "source": [
    "class DiscourseEffectivenessModel(nn.Module):\n",
    "    def __init__(self, num_classes=3, config_path=None):\n",
    "        super(DiscourseEffectivenessModel, self).__init__()\n",
    "        if config_path is None:\n",
    "            self.config = AutoConfig.from_pretrained('../input/debertav3base', output_hidden_states=True)\n",
    "        else:\n",
    "            self.config = torch.load(config_path)\n",
    "        self.num_classes = num_classes\n",
    "        self.pretrained_layer = AutoModel.from_pretrained('../input/debertav3base')\n",
    "        self.pooler = MeanPoolingLayer()\n",
    "        self.bilstm = nn.LSTM(self.config.hidden_size, (self.config.hidden_size) // 2, num_layers=2, \n",
    "                              dropout=self.config.hidden_dropout_prob, batch_first=True,\n",
    "                              bidirectional=True)\n",
    "        self.dropout = nn.Dropout(p=0.3)\n",
    "        self.fc = nn.Linear(3*self.pretrained_layer.config.hidden_size, num_classes)\n",
    "    \n",
    "    def forward(self, discourse_input_ids, discourse_attention_mask, essay_input_ids, essay_attention_mask):\n",
    "        discourse_out = self.pretrained_layer(input_ids=discourse_input_ids, attention_mask=discourse_attention_mask)\n",
    "        discourse_emb = self.pooler(discourse_out.last_hidden_state, discourse_attention_mask)\n",
    "        essay_out = self.pretrained_layer(input_ids=essay_input_ids, attention_mask=essay_attention_mask)\n",
    "        essay_emb = self.pooler(essay_out.last_hidden_state, essay_attention_mask)\n",
    "        concat_emb = torch.cat([discourse_emb, essay_emb, torch.abs(essay_emb - discourse_emb)], dim=-1)\n",
    "        x = self.dropout(concat_emb)\n",
    "        x = self.fc(x)\n",
    "        return x"
   ]
  },
  {
   "cell_type": "code",
   "execution_count": 8,
   "id": "861e290d",
   "metadata": {
    "execution": {
     "iopub.execute_input": "2022-08-16T18:34:50.406265Z",
     "iopub.status.busy": "2022-08-16T18:34:50.406000Z",
     "iopub.status.idle": "2022-08-16T18:34:50.414271Z",
     "shell.execute_reply": "2022-08-16T18:34:50.413314Z"
    },
    "papermill": {
     "duration": 0.014423,
     "end_time": "2022-08-16T18:34:50.416318",
     "exception": false,
     "start_time": "2022-08-16T18:34:50.401895",
     "status": "completed"
    },
    "tags": []
   },
   "outputs": [],
   "source": [
    "@torch.no_grad()\n",
    "def inference(essay_text, discourse_type, discourse_text, model):\n",
    "    model.eval()\n",
    "    input_discourse = discourse_type + ' ' + tokenizer.sep_token + ' ' + discourse_text\n",
    "    tokenized_discourse = tokenizer.encode_plus(\n",
    "        input_discourse,\n",
    "        return_token_type_ids=False,\n",
    "        return_attention_mask=True,\n",
    "        max_length=512,\n",
    "        truncation=True,\n",
    "        padding=True,\n",
    "        add_special_tokens=True,\n",
    "        return_tensors='pt'\n",
    "    )\n",
    "    tokenized_essay = tokenizer.encode_plus(\n",
    "                            essay_text,\n",
    "                            return_token_type_ids=False,\n",
    "                            return_attention_mask=True,\n",
    "                            max_length=512,\n",
    "                            truncation=True,\n",
    "                            padding=True,\n",
    "                            add_special_tokens=True,\n",
    "                            return_tensors='pt',\n",
    "                        )\n",
    "    discourse_input_ids = tokenized_discourse['input_ids'].to(CONFIG['device'], non_blocking=True)\n",
    "    discourse_attention_mask = tokenized_discourse['attention_mask'].to(CONFIG['device'], non_blocking=True)\n",
    "    essay_input_ids = tokenized_essay['input_ids'].to(CONFIG['device'], non_blocking=True)\n",
    "    essay_attention_mask = tokenized_essay['attention_mask'].to(CONFIG['device'], non_blocking=True)\n",
    "    with torch.cuda.amp.autocast():\n",
    "        logits = model(discourse_input_ids, discourse_attention_mask, essay_input_ids, essay_attention_mask)\n",
    "        probs = nn.Softmax(dim=1)(logits)\n",
    "    return probs"
   ]
  },
  {
   "cell_type": "code",
   "execution_count": 9,
   "id": "4b8ac0a5",
   "metadata": {
    "execution": {
     "iopub.execute_input": "2022-08-16T18:34:50.424115Z",
     "iopub.status.busy": "2022-08-16T18:34:50.423856Z",
     "iopub.status.idle": "2022-08-16T18:34:50.428322Z",
     "shell.execute_reply": "2022-08-16T18:34:50.427328Z"
    },
    "papermill": {
     "duration": 0.010949,
     "end_time": "2022-08-16T18:34:50.430609",
     "exception": false,
     "start_time": "2022-08-16T18:34:50.419660",
     "status": "completed"
    },
    "tags": []
   },
   "outputs": [],
   "source": [
    "model_paths = ['../input/feedback-baseline-7/deb_base_512_mlm_fold0_best.pt',\n",
    "               '../input/feedback-baseline-7/deb_base_512_mlm_fold1_best.pt',\n",
    "               '../input/feedback-baseline-7/deb_base_512_mlm_fold2_best.pt',\n",
    "               '../input/feedback-baseline-7/deb_base_512_mlm_fold3_best.pt',\n",
    "               '../input/feedback-baseline-7/deb_base_512_mlm_fold4_best.pt']"
   ]
  },
  {
   "cell_type": "code",
   "execution_count": 10,
   "id": "6f183d45",
   "metadata": {
    "execution": {
     "iopub.execute_input": "2022-08-16T18:34:50.438775Z",
     "iopub.status.busy": "2022-08-16T18:34:50.438524Z",
     "iopub.status.idle": "2022-08-16T18:34:50.445613Z",
     "shell.execute_reply": "2022-08-16T18:34:50.444697Z"
    },
    "papermill": {
     "duration": 0.013455,
     "end_time": "2022-08-16T18:34:50.447546",
     "exception": false,
     "start_time": "2022-08-16T18:34:50.434091",
     "status": "completed"
    },
    "tags": []
   },
   "outputs": [],
   "source": [
    "###### Reduce Padding Inference ######\n",
    "\n",
    "# sort by token num\n",
    "\n",
    "def sort_df(df):\n",
    "    input_lengths = []\n",
    "    tk0 = tqdm(df['discourse_text'].fillna(\"\").values, total=len(df))\n",
    "    for text in tk0:\n",
    "        length = len(tokenizer(text, add_special_tokens=True)['input_ids'])\n",
    "        input_lengths.append(length)\n",
    "    df['input_lengths'] = input_lengths\n",
    "    length_sorted_idx = np.argsort([-len_ for len_ in input_lengths])\n",
    "    # sort dataframe\n",
    "    sort_df = df.iloc[length_sorted_idx]\n",
    "    # calc max_len per batch\n",
    "    sorted_input_length = sort_df['input_lengths'].values\n",
    "    batch_max_length = np.zeros_like(sorted_input_length)\n",
    "    bs = 32\n",
    "    for i in range((len(sorted_input_length)//bs)+1):\n",
    "        batch_max_length[i*bs:(i+1)*bs] = np.max(sorted_input_length[i*bs:(i+1)*bs])    \n",
    "    sort_df['batch_max_length'] = batch_max_length\n",
    "    return sort_df"
   ]
  },
  {
   "cell_type": "code",
   "execution_count": 11,
   "id": "7c546581",
   "metadata": {
    "execution": {
     "iopub.execute_input": "2022-08-16T18:34:50.455554Z",
     "iopub.status.busy": "2022-08-16T18:34:50.454981Z",
     "iopub.status.idle": "2022-08-16T18:35:45.297634Z",
     "shell.execute_reply": "2022-08-16T18:35:45.296599Z"
    },
    "papermill": {
     "duration": 54.849217,
     "end_time": "2022-08-16T18:35:45.300038",
     "exception": false,
     "start_time": "2022-08-16T18:34:50.450821",
     "status": "completed"
    },
    "tags": []
   },
   "outputs": [
    {
     "data": {
      "application/vnd.jupyter.widget-view+json": {
       "model_id": "4b3fa05e93ba4136891115534e654c3e",
       "version_major": 2,
       "version_minor": 0
      },
      "text/plain": [
       "  0%|          | 0/10 [00:00<?, ?it/s]"
      ]
     },
     "metadata": {},
     "output_type": "display_data"
    },
    {
     "name": "stderr",
     "output_type": "stream",
     "text": [
      "/opt/conda/lib/python3.7/site-packages/ipykernel_launcher.py:21: SettingWithCopyWarning: \n",
      "A value is trying to be set on a copy of a slice from a DataFrame.\n",
      "Try using .loc[row_indexer,col_indexer] = value instead\n",
      "\n",
      "See the caveats in the documentation: https://pandas.pydata.org/pandas-docs/stable/user_guide/indexing.html#returning-a-view-versus-a-copy\n"
     ]
    },
    {
     "name": "stdout",
     "output_type": "stream",
     "text": [
      "....inference for fold 0....\n"
     ]
    },
    {
     "name": "stderr",
     "output_type": "stream",
     "text": [
      "Some weights of the model checkpoint at ../input/debertav3base were not used when initializing DebertaV2Model: ['mask_predictions.dense.bias', 'lm_predictions.lm_head.dense.bias', 'lm_predictions.lm_head.dense.weight', 'mask_predictions.dense.weight', 'lm_predictions.lm_head.LayerNorm.weight', 'lm_predictions.lm_head.bias', 'mask_predictions.classifier.weight', 'mask_predictions.LayerNorm.bias', 'mask_predictions.classifier.bias', 'lm_predictions.lm_head.LayerNorm.bias', 'mask_predictions.LayerNorm.weight']\n",
      "- This IS expected if you are initializing DebertaV2Model from the checkpoint of a model trained on another task or with another architecture (e.g. initializing a BertForSequenceClassification model from a BertForPreTraining model).\n",
      "- This IS NOT expected if you are initializing DebertaV2Model from the checkpoint of a model that you expect to be exactly identical (initializing a BertForSequenceClassification model from a BertForSequenceClassification model).\n"
     ]
    },
    {
     "name": "stdout",
     "output_type": "stream",
     "text": [
      "....inference for fold 1....\n"
     ]
    },
    {
     "name": "stderr",
     "output_type": "stream",
     "text": [
      "Some weights of the model checkpoint at ../input/debertav3base were not used when initializing DebertaV2Model: ['mask_predictions.dense.bias', 'lm_predictions.lm_head.dense.bias', 'lm_predictions.lm_head.dense.weight', 'mask_predictions.dense.weight', 'lm_predictions.lm_head.LayerNorm.weight', 'lm_predictions.lm_head.bias', 'mask_predictions.classifier.weight', 'mask_predictions.LayerNorm.bias', 'mask_predictions.classifier.bias', 'lm_predictions.lm_head.LayerNorm.bias', 'mask_predictions.LayerNorm.weight']\n",
      "- This IS expected if you are initializing DebertaV2Model from the checkpoint of a model trained on another task or with another architecture (e.g. initializing a BertForSequenceClassification model from a BertForPreTraining model).\n",
      "- This IS NOT expected if you are initializing DebertaV2Model from the checkpoint of a model that you expect to be exactly identical (initializing a BertForSequenceClassification model from a BertForSequenceClassification model).\n"
     ]
    },
    {
     "name": "stdout",
     "output_type": "stream",
     "text": [
      "....inference for fold 2....\n"
     ]
    },
    {
     "name": "stderr",
     "output_type": "stream",
     "text": [
      "Some weights of the model checkpoint at ../input/debertav3base were not used when initializing DebertaV2Model: ['mask_predictions.dense.bias', 'lm_predictions.lm_head.dense.bias', 'lm_predictions.lm_head.dense.weight', 'mask_predictions.dense.weight', 'lm_predictions.lm_head.LayerNorm.weight', 'lm_predictions.lm_head.bias', 'mask_predictions.classifier.weight', 'mask_predictions.LayerNorm.bias', 'mask_predictions.classifier.bias', 'lm_predictions.lm_head.LayerNorm.bias', 'mask_predictions.LayerNorm.weight']\n",
      "- This IS expected if you are initializing DebertaV2Model from the checkpoint of a model trained on another task or with another architecture (e.g. initializing a BertForSequenceClassification model from a BertForPreTraining model).\n",
      "- This IS NOT expected if you are initializing DebertaV2Model from the checkpoint of a model that you expect to be exactly identical (initializing a BertForSequenceClassification model from a BertForSequenceClassification model).\n"
     ]
    },
    {
     "name": "stdout",
     "output_type": "stream",
     "text": [
      "....inference for fold 3....\n"
     ]
    },
    {
     "name": "stderr",
     "output_type": "stream",
     "text": [
      "Some weights of the model checkpoint at ../input/debertav3base were not used when initializing DebertaV2Model: ['mask_predictions.dense.bias', 'lm_predictions.lm_head.dense.bias', 'lm_predictions.lm_head.dense.weight', 'mask_predictions.dense.weight', 'lm_predictions.lm_head.LayerNorm.weight', 'lm_predictions.lm_head.bias', 'mask_predictions.classifier.weight', 'mask_predictions.LayerNorm.bias', 'mask_predictions.classifier.bias', 'lm_predictions.lm_head.LayerNorm.bias', 'mask_predictions.LayerNorm.weight']\n",
      "- This IS expected if you are initializing DebertaV2Model from the checkpoint of a model trained on another task or with another architecture (e.g. initializing a BertForSequenceClassification model from a BertForPreTraining model).\n",
      "- This IS NOT expected if you are initializing DebertaV2Model from the checkpoint of a model that you expect to be exactly identical (initializing a BertForSequenceClassification model from a BertForSequenceClassification model).\n"
     ]
    },
    {
     "name": "stdout",
     "output_type": "stream",
     "text": [
      "....inference for fold 4....\n"
     ]
    },
    {
     "name": "stderr",
     "output_type": "stream",
     "text": [
      "Some weights of the model checkpoint at ../input/debertav3base were not used when initializing DebertaV2Model: ['mask_predictions.dense.bias', 'lm_predictions.lm_head.dense.bias', 'lm_predictions.lm_head.dense.weight', 'mask_predictions.dense.weight', 'lm_predictions.lm_head.LayerNorm.weight', 'lm_predictions.lm_head.bias', 'mask_predictions.classifier.weight', 'mask_predictions.LayerNorm.bias', 'mask_predictions.classifier.bias', 'lm_predictions.lm_head.LayerNorm.bias', 'mask_predictions.LayerNorm.weight']\n",
      "- This IS expected if you are initializing DebertaV2Model from the checkpoint of a model trained on another task or with another architecture (e.g. initializing a BertForSequenceClassification model from a BertForPreTraining model).\n",
      "- This IS NOT expected if you are initializing DebertaV2Model from the checkpoint of a model that you expect to be exactly identical (initializing a BertForSequenceClassification model from a BertForSequenceClassification model).\n"
     ]
    }
   ],
   "source": [
    "ensemble_preds = np.zeros((len(data), 3), dtype=np.float16)\n",
    "data = sort_df(data)\n",
    "for i, path in enumerate(model_paths):\n",
    "    print(f'....inference for fold {i}....')\n",
    "    model = DiscourseEffectivenessModel().to(CONFIG['device'])\n",
    "    model.load_state_dict(torch.load(model_paths[i]))\n",
    "    preds = []\n",
    "    for essay_text, discourse_type, discourse_text in zip(data['essay_text'].tolist(), data['discourse_type'].tolist(), data['discourse_text'].tolist()):\n",
    "        probs = inference(essay_text, discourse_type, discourse_text, model)\n",
    "        preds.append(probs.to('cpu').numpy())\n",
    "    ensemble_preds += np.concatenate(preds)\n",
    "    del model, preds\n",
    "    gc.collect()\n",
    "    torch.cuda.empty_cache()\n",
    "\n",
    "ensemble_preds /= len(model_paths)\n",
    "\n",
    "submission = pd.DataFrame()\n",
    "submission['discourse_id'] = data['discourse_id']\n",
    "submission['Adequate'] = ensemble_preds[:, 1]\n",
    "submission['Effective'] = ensemble_preds[:, 0]\n",
    "submission['Ineffective'] = ensemble_preds[:, 2]\n",
    "submission = submission.sort_index()\n",
    "submission.to_csv('submission.csv', index=False)"
   ]
  },
  {
   "cell_type": "code",
   "execution_count": 12,
   "id": "a23cbac2",
   "metadata": {
    "execution": {
     "iopub.execute_input": "2022-08-16T18:35:45.310529Z",
     "iopub.status.busy": "2022-08-16T18:35:45.309698Z",
     "iopub.status.idle": "2022-08-16T18:35:45.323252Z",
     "shell.execute_reply": "2022-08-16T18:35:45.321997Z"
    },
    "papermill": {
     "duration": 0.021229,
     "end_time": "2022-08-16T18:35:45.325802",
     "exception": false,
     "start_time": "2022-08-16T18:35:45.304573",
     "status": "completed"
    },
    "tags": []
   },
   "outputs": [
    {
     "data": {
      "text/html": [
       "<div>\n",
       "<style scoped>\n",
       "    .dataframe tbody tr th:only-of-type {\n",
       "        vertical-align: middle;\n",
       "    }\n",
       "\n",
       "    .dataframe tbody tr th {\n",
       "        vertical-align: top;\n",
       "    }\n",
       "\n",
       "    .dataframe thead th {\n",
       "        text-align: right;\n",
       "    }\n",
       "</style>\n",
       "<table border=\"1\" class=\"dataframe\">\n",
       "  <thead>\n",
       "    <tr style=\"text-align: right;\">\n",
       "      <th></th>\n",
       "      <th>discourse_id</th>\n",
       "      <th>Adequate</th>\n",
       "      <th>Effective</th>\n",
       "      <th>Ineffective</th>\n",
       "    </tr>\n",
       "  </thead>\n",
       "  <tbody>\n",
       "    <tr>\n",
       "      <th>0</th>\n",
       "      <td>a261b6e14276</td>\n",
       "      <td>0.683594</td>\n",
       "      <td>0.300049</td>\n",
       "      <td>0.016205</td>\n",
       "    </tr>\n",
       "    <tr>\n",
       "      <th>1</th>\n",
       "      <td>5a88900e7dc1</td>\n",
       "      <td>0.864258</td>\n",
       "      <td>0.116089</td>\n",
       "      <td>0.019867</td>\n",
       "    </tr>\n",
       "    <tr>\n",
       "      <th>2</th>\n",
       "      <td>9790d835736b</td>\n",
       "      <td>0.725586</td>\n",
       "      <td>0.245483</td>\n",
       "      <td>0.029251</td>\n",
       "    </tr>\n",
       "    <tr>\n",
       "      <th>3</th>\n",
       "      <td>75ce6d68b67b</td>\n",
       "      <td>0.723145</td>\n",
       "      <td>0.235107</td>\n",
       "      <td>0.041748</td>\n",
       "    </tr>\n",
       "    <tr>\n",
       "      <th>4</th>\n",
       "      <td>93578d946723</td>\n",
       "      <td>0.655762</td>\n",
       "      <td>0.287354</td>\n",
       "      <td>0.056488</td>\n",
       "    </tr>\n",
       "  </tbody>\n",
       "</table>\n",
       "</div>"
      ],
      "text/plain": [
       "   discourse_id  Adequate  Effective  Ineffective\n",
       "0  a261b6e14276  0.683594   0.300049     0.016205\n",
       "1  5a88900e7dc1  0.864258   0.116089     0.019867\n",
       "2  9790d835736b  0.725586   0.245483     0.029251\n",
       "3  75ce6d68b67b  0.723145   0.235107     0.041748\n",
       "4  93578d946723  0.655762   0.287354     0.056488"
      ]
     },
     "execution_count": 12,
     "metadata": {},
     "output_type": "execute_result"
    }
   ],
   "source": [
    "submission.head()"
   ]
  },
  {
   "cell_type": "code",
   "execution_count": null,
   "id": "da77c886",
   "metadata": {
    "papermill": {
     "duration": 0.003986,
     "end_time": "2022-08-16T18:35:45.333954",
     "exception": false,
     "start_time": "2022-08-16T18:35:45.329968",
     "status": "completed"
    },
    "tags": []
   },
   "outputs": [],
   "source": []
  }
 ],
 "metadata": {
  "kernelspec": {
   "display_name": "Python 3",
   "language": "python",
   "name": "python3"
  },
  "language_info": {
   "codemirror_mode": {
    "name": "ipython",
    "version": 3
   },
   "file_extension": ".py",
   "mimetype": "text/x-python",
   "name": "python",
   "nbconvert_exporter": "python",
   "pygments_lexer": "ipython3",
   "version": "3.7.12"
  },
  "papermill": {
   "default_parameters": {},
   "duration": 73.302308,
   "end_time": "2022-08-16T18:35:48.544430",
   "environment_variables": {},
   "exception": null,
   "input_path": "__notebook__.ipynb",
   "output_path": "__notebook__.ipynb",
   "parameters": {},
   "start_time": "2022-08-16T18:34:35.242122",
   "version": "2.3.4"
  },
  "widgets": {
   "application/vnd.jupyter.widget-state+json": {
    "state": {
     "07ab231c468f454fbd19c5c4a8233b8f": {
      "model_module": "@jupyter-widgets/base",
      "model_module_version": "1.2.0",
      "model_name": "LayoutModel",
      "state": {
       "_model_module": "@jupyter-widgets/base",
       "_model_module_version": "1.2.0",
       "_model_name": "LayoutModel",
       "_view_count": null,
       "_view_module": "@jupyter-widgets/base",
       "_view_module_version": "1.2.0",
       "_view_name": "LayoutView",
       "align_content": null,
       "align_items": null,
       "align_self": null,
       "border": null,
       "bottom": null,
       "display": null,
       "flex": null,
       "flex_flow": null,
       "grid_area": null,
       "grid_auto_columns": null,
       "grid_auto_flow": null,
       "grid_auto_rows": null,
       "grid_column": null,
       "grid_gap": null,
       "grid_row": null,
       "grid_template_areas": null,
       "grid_template_columns": null,
       "grid_template_rows": null,
       "height": null,
       "justify_content": null,
       "justify_items": null,
       "left": null,
       "margin": null,
       "max_height": null,
       "max_width": null,
       "min_height": null,
       "min_width": null,
       "object_fit": null,
       "object_position": null,
       "order": null,
       "overflow": null,
       "overflow_x": null,
       "overflow_y": null,
       "padding": null,
       "right": null,
       "top": null,
       "visibility": null,
       "width": null
      }
     },
     "1600f740201343a5ab7d713089c4abb5": {
      "model_module": "@jupyter-widgets/base",
      "model_module_version": "1.2.0",
      "model_name": "LayoutModel",
      "state": {
       "_model_module": "@jupyter-widgets/base",
       "_model_module_version": "1.2.0",
       "_model_name": "LayoutModel",
       "_view_count": null,
       "_view_module": "@jupyter-widgets/base",
       "_view_module_version": "1.2.0",
       "_view_name": "LayoutView",
       "align_content": null,
       "align_items": null,
       "align_self": null,
       "border": null,
       "bottom": null,
       "display": null,
       "flex": null,
       "flex_flow": null,
       "grid_area": null,
       "grid_auto_columns": null,
       "grid_auto_flow": null,
       "grid_auto_rows": null,
       "grid_column": null,
       "grid_gap": null,
       "grid_row": null,
       "grid_template_areas": null,
       "grid_template_columns": null,
       "grid_template_rows": null,
       "height": null,
       "justify_content": null,
       "justify_items": null,
       "left": null,
       "margin": null,
       "max_height": null,
       "max_width": null,
       "min_height": null,
       "min_width": null,
       "object_fit": null,
       "object_position": null,
       "order": null,
       "overflow": null,
       "overflow_x": null,
       "overflow_y": null,
       "padding": null,
       "right": null,
       "top": null,
       "visibility": null,
       "width": null
      }
     },
     "2ba9c88a2c344979bab2586b08817fa9": {
      "model_module": "@jupyter-widgets/controls",
      "model_module_version": "1.5.0",
      "model_name": "DescriptionStyleModel",
      "state": {
       "_model_module": "@jupyter-widgets/controls",
       "_model_module_version": "1.5.0",
       "_model_name": "DescriptionStyleModel",
       "_view_count": null,
       "_view_module": "@jupyter-widgets/base",
       "_view_module_version": "1.2.0",
       "_view_name": "StyleView",
       "description_width": ""
      }
     },
     "342229e1ca2b464e82f73fe5325d4d07": {
      "model_module": "@jupyter-widgets/controls",
      "model_module_version": "1.5.0",
      "model_name": "HTMLModel",
      "state": {
       "_dom_classes": [],
       "_model_module": "@jupyter-widgets/controls",
       "_model_module_version": "1.5.0",
       "_model_name": "HTMLModel",
       "_view_count": null,
       "_view_module": "@jupyter-widgets/controls",
       "_view_module_version": "1.5.0",
       "_view_name": "HTMLView",
       "description": "",
       "description_tooltip": null,
       "layout": "IPY_MODEL_7505223abf2b4c8f8d7cc6446ff4b05d",
       "placeholder": "​",
       "style": "IPY_MODEL_2ba9c88a2c344979bab2586b08817fa9",
       "value": "100%"
      }
     },
     "4b3fa05e93ba4136891115534e654c3e": {
      "model_module": "@jupyter-widgets/controls",
      "model_module_version": "1.5.0",
      "model_name": "HBoxModel",
      "state": {
       "_dom_classes": [],
       "_model_module": "@jupyter-widgets/controls",
       "_model_module_version": "1.5.0",
       "_model_name": "HBoxModel",
       "_view_count": null,
       "_view_module": "@jupyter-widgets/controls",
       "_view_module_version": "1.5.0",
       "_view_name": "HBoxView",
       "box_style": "",
       "children": [
        "IPY_MODEL_342229e1ca2b464e82f73fe5325d4d07",
        "IPY_MODEL_80a6643f4d8f42a8ae450ef319d93a4e",
        "IPY_MODEL_bd94b8dfd9f842479b902aefd485f6c6"
       ],
       "layout": "IPY_MODEL_1600f740201343a5ab7d713089c4abb5"
      }
     },
     "4e5d1f6528f846e9bd6f4f7cc23ca03b": {
      "model_module": "@jupyter-widgets/controls",
      "model_module_version": "1.5.0",
      "model_name": "ProgressStyleModel",
      "state": {
       "_model_module": "@jupyter-widgets/controls",
       "_model_module_version": "1.5.0",
       "_model_name": "ProgressStyleModel",
       "_view_count": null,
       "_view_module": "@jupyter-widgets/base",
       "_view_module_version": "1.2.0",
       "_view_name": "StyleView",
       "bar_color": null,
       "description_width": ""
      }
     },
     "53d3c725baf443b5acf6b2da24776e9d": {
      "model_module": "@jupyter-widgets/controls",
      "model_module_version": "1.5.0",
      "model_name": "DescriptionStyleModel",
      "state": {
       "_model_module": "@jupyter-widgets/controls",
       "_model_module_version": "1.5.0",
       "_model_name": "DescriptionStyleModel",
       "_view_count": null,
       "_view_module": "@jupyter-widgets/base",
       "_view_module_version": "1.2.0",
       "_view_name": "StyleView",
       "description_width": ""
      }
     },
     "7505223abf2b4c8f8d7cc6446ff4b05d": {
      "model_module": "@jupyter-widgets/base",
      "model_module_version": "1.2.0",
      "model_name": "LayoutModel",
      "state": {
       "_model_module": "@jupyter-widgets/base",
       "_model_module_version": "1.2.0",
       "_model_name": "LayoutModel",
       "_view_count": null,
       "_view_module": "@jupyter-widgets/base",
       "_view_module_version": "1.2.0",
       "_view_name": "LayoutView",
       "align_content": null,
       "align_items": null,
       "align_self": null,
       "border": null,
       "bottom": null,
       "display": null,
       "flex": null,
       "flex_flow": null,
       "grid_area": null,
       "grid_auto_columns": null,
       "grid_auto_flow": null,
       "grid_auto_rows": null,
       "grid_column": null,
       "grid_gap": null,
       "grid_row": null,
       "grid_template_areas": null,
       "grid_template_columns": null,
       "grid_template_rows": null,
       "height": null,
       "justify_content": null,
       "justify_items": null,
       "left": null,
       "margin": null,
       "max_height": null,
       "max_width": null,
       "min_height": null,
       "min_width": null,
       "object_fit": null,
       "object_position": null,
       "order": null,
       "overflow": null,
       "overflow_x": null,
       "overflow_y": null,
       "padding": null,
       "right": null,
       "top": null,
       "visibility": null,
       "width": null
      }
     },
     "80a6643f4d8f42a8ae450ef319d93a4e": {
      "model_module": "@jupyter-widgets/controls",
      "model_module_version": "1.5.0",
      "model_name": "FloatProgressModel",
      "state": {
       "_dom_classes": [],
       "_model_module": "@jupyter-widgets/controls",
       "_model_module_version": "1.5.0",
       "_model_name": "FloatProgressModel",
       "_view_count": null,
       "_view_module": "@jupyter-widgets/controls",
       "_view_module_version": "1.5.0",
       "_view_name": "ProgressView",
       "bar_style": "success",
       "description": "",
       "description_tooltip": null,
       "layout": "IPY_MODEL_07ab231c468f454fbd19c5c4a8233b8f",
       "max": 10.0,
       "min": 0.0,
       "orientation": "horizontal",
       "style": "IPY_MODEL_4e5d1f6528f846e9bd6f4f7cc23ca03b",
       "value": 10.0
      }
     },
     "bd94b8dfd9f842479b902aefd485f6c6": {
      "model_module": "@jupyter-widgets/controls",
      "model_module_version": "1.5.0",
      "model_name": "HTMLModel",
      "state": {
       "_dom_classes": [],
       "_model_module": "@jupyter-widgets/controls",
       "_model_module_version": "1.5.0",
       "_model_name": "HTMLModel",
       "_view_count": null,
       "_view_module": "@jupyter-widgets/controls",
       "_view_module_version": "1.5.0",
       "_view_name": "HTMLView",
       "description": "",
       "description_tooltip": null,
       "layout": "IPY_MODEL_be960dc34da94973b6156f06e0e655a0",
       "placeholder": "​",
       "style": "IPY_MODEL_53d3c725baf443b5acf6b2da24776e9d",
       "value": " 10/10 [00:00&lt;00:00, 332.05it/s]"
      }
     },
     "be960dc34da94973b6156f06e0e655a0": {
      "model_module": "@jupyter-widgets/base",
      "model_module_version": "1.2.0",
      "model_name": "LayoutModel",
      "state": {
       "_model_module": "@jupyter-widgets/base",
       "_model_module_version": "1.2.0",
       "_model_name": "LayoutModel",
       "_view_count": null,
       "_view_module": "@jupyter-widgets/base",
       "_view_module_version": "1.2.0",
       "_view_name": "LayoutView",
       "align_content": null,
       "align_items": null,
       "align_self": null,
       "border": null,
       "bottom": null,
       "display": null,
       "flex": null,
       "flex_flow": null,
       "grid_area": null,
       "grid_auto_columns": null,
       "grid_auto_flow": null,
       "grid_auto_rows": null,
       "grid_column": null,
       "grid_gap": null,
       "grid_row": null,
       "grid_template_areas": null,
       "grid_template_columns": null,
       "grid_template_rows": null,
       "height": null,
       "justify_content": null,
       "justify_items": null,
       "left": null,
       "margin": null,
       "max_height": null,
       "max_width": null,
       "min_height": null,
       "min_width": null,
       "object_fit": null,
       "object_position": null,
       "order": null,
       "overflow": null,
       "overflow_x": null,
       "overflow_y": null,
       "padding": null,
       "right": null,
       "top": null,
       "visibility": null,
       "width": null
      }
     }
    },
    "version_major": 2,
    "version_minor": 0
   }
  }
 },
 "nbformat": 4,
 "nbformat_minor": 5
}
